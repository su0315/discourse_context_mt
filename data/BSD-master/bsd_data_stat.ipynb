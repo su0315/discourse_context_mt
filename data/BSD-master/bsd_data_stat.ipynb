{
 "cells": [
  {
   "cell_type": "code",
   "execution_count": 1,
   "id": "92548dd6",
   "metadata": {},
   "outputs": [],
   "source": [
    "import pandas as pd\n",
    "import numpy as np\n",
    "import seaborn as sns\n",
    "from matplotlib import pyplot as plt"
   ]
  },
  {
   "cell_type": "markdown",
   "id": "0d963841",
   "metadata": {},
   "source": [
    "# BSD Corpus"
   ]
  },
  {
   "cell_type": "markdown",
   "id": "33c0a875",
   "metadata": {},
   "source": [
    "### Importing Data"
   ]
  },
  {
   "cell_type": "code",
   "execution_count": 2,
   "id": "2c1298da",
   "metadata": {},
   "outputs": [
    {
     "data": {
      "text/html": [
       "<div>\n",
       "<style scoped>\n",
       "    .dataframe tbody tr th:only-of-type {\n",
       "        vertical-align: middle;\n",
       "    }\n",
       "\n",
       "    .dataframe tbody tr th {\n",
       "        vertical-align: top;\n",
       "    }\n",
       "\n",
       "    .dataframe thead th {\n",
       "        text-align: right;\n",
       "    }\n",
       "</style>\n",
       "<table border=\"1\" class=\"dataframe\">\n",
       "  <thead>\n",
       "    <tr style=\"text-align: right;\">\n",
       "      <th></th>\n",
       "      <th>id</th>\n",
       "      <th>tag</th>\n",
       "      <th>title</th>\n",
       "      <th>original_language</th>\n",
       "      <th>conversation</th>\n",
       "    </tr>\n",
       "  </thead>\n",
       "  <tbody>\n",
       "    <tr>\n",
       "      <th>0</th>\n",
       "      <td>190329_J07_03</td>\n",
       "      <td>phone call</td>\n",
       "      <td>伝言への折り返し電話　打ち合わせ日程調整</td>\n",
       "      <td>ja</td>\n",
       "      <td>[{'no': 1, 'ja_speaker': '土井さん', 'en_speaker':...</td>\n",
       "    </tr>\n",
       "    <tr>\n",
       "      <th>1</th>\n",
       "      <td>190329_J06_11</td>\n",
       "      <td>meeting</td>\n",
       "      <td>株主総会に関する役員向け説明（２）</td>\n",
       "      <td>ja</td>\n",
       "      <td>[{'no': 1, 'ja_speaker': '高田さん', 'en_speaker':...</td>\n",
       "    </tr>\n",
       "    <tr>\n",
       "      <th>2</th>\n",
       "      <td>190329_J06_10</td>\n",
       "      <td>meeting</td>\n",
       "      <td>株主総会に関する役員向け説明（１）</td>\n",
       "      <td>ja</td>\n",
       "      <td>[{'no': 1, 'ja_speaker': '友井さん', 'en_speaker':...</td>\n",
       "    </tr>\n",
       "    <tr>\n",
       "      <th>3</th>\n",
       "      <td>190329_J06_09</td>\n",
       "      <td>face-to-face conversation</td>\n",
       "      <td>信託銀行から株主名簿を受領</td>\n",
       "      <td>ja</td>\n",
       "      <td>[{'no': 1, 'ja_speaker': '高田さん', 'en_speaker':...</td>\n",
       "    </tr>\n",
       "    <tr>\n",
       "      <th>4</th>\n",
       "      <td>190329_J06_08</td>\n",
       "      <td>face-to-face conversation</td>\n",
       "      <td>株主総会への臨場要請</td>\n",
       "      <td>ja</td>\n",
       "      <td>[{'no': 1, 'ja_speaker': '高田さん', 'en_speaker':...</td>\n",
       "    </tr>\n",
       "    <tr>\n",
       "      <th>...</th>\n",
       "      <td>...</td>\n",
       "      <td>...</td>\n",
       "      <td>...</td>\n",
       "      <td>...</td>\n",
       "      <td>...</td>\n",
       "    </tr>\n",
       "    <tr>\n",
       "      <th>665</th>\n",
       "      <td>190315_E001_05</td>\n",
       "      <td>presentation</td>\n",
       "      <td>Presentation: Company introduction</td>\n",
       "      <td>en</td>\n",
       "      <td>[{'no': 1, 'en_speaker': 'Mr. Asano Yuki', 'ja...</td>\n",
       "    </tr>\n",
       "    <tr>\n",
       "      <th>666</th>\n",
       "      <td>190315_E001_04</td>\n",
       "      <td>training</td>\n",
       "      <td>Training: training a new employee</td>\n",
       "      <td>en</td>\n",
       "      <td>[{'no': 1, 'en_speaker': 'Mr. Ben Sherman', 'j...</td>\n",
       "    </tr>\n",
       "    <tr>\n",
       "      <th>667</th>\n",
       "      <td>190315_E001_03</td>\n",
       "      <td>general chatting</td>\n",
       "      <td>General chatting: Company Christmas party</td>\n",
       "      <td>en</td>\n",
       "      <td>[{'no': 1, 'en_speaker': 'Ms. Amy Lin', 'ja_sp...</td>\n",
       "    </tr>\n",
       "    <tr>\n",
       "      <th>668</th>\n",
       "      <td>190315_E001_02</td>\n",
       "      <td>phone call</td>\n",
       "      <td>Phone call: requesting a lunch meeting.</td>\n",
       "      <td>en</td>\n",
       "      <td>[{'no': 1, 'en_speaker': 'Mr. John Smith', 'ja...</td>\n",
       "    </tr>\n",
       "    <tr>\n",
       "      <th>669</th>\n",
       "      <td>190315_E001_01</td>\n",
       "      <td>meeting</td>\n",
       "      <td>Meeting: Wrap-up meeting (after meeting a star...</td>\n",
       "      <td>en</td>\n",
       "      <td>[{'no': 1, 'en_speaker': 'Mr. Bob Cook', 'ja_s...</td>\n",
       "    </tr>\n",
       "  </tbody>\n",
       "</table>\n",
       "<p>670 rows × 5 columns</p>\n",
       "</div>"
      ],
      "text/plain": [
       "                 id                        tag  \\\n",
       "0     190329_J07_03                 phone call   \n",
       "1     190329_J06_11                    meeting   \n",
       "2     190329_J06_10                    meeting   \n",
       "3     190329_J06_09  face-to-face conversation   \n",
       "4     190329_J06_08  face-to-face conversation   \n",
       "..              ...                        ...   \n",
       "665  190315_E001_05               presentation   \n",
       "666  190315_E001_04                   training   \n",
       "667  190315_E001_03           general chatting   \n",
       "668  190315_E001_02                 phone call   \n",
       "669  190315_E001_01                    meeting   \n",
       "\n",
       "                                                 title original_language  \\\n",
       "0                                 伝言への折り返し電話　打ち合わせ日程調整                ja   \n",
       "1                                    株主総会に関する役員向け説明（２）                ja   \n",
       "2                                    株主総会に関する役員向け説明（１）                ja   \n",
       "3                                        信託銀行から株主名簿を受領                ja   \n",
       "4                                           株主総会への臨場要請                ja   \n",
       "..                                                 ...               ...   \n",
       "665                 Presentation: Company introduction                en   \n",
       "666                  Training: training a new employee                en   \n",
       "667          General chatting: Company Christmas party                en   \n",
       "668            Phone call: requesting a lunch meeting.                en   \n",
       "669  Meeting: Wrap-up meeting (after meeting a star...                en   \n",
       "\n",
       "                                          conversation  \n",
       "0    [{'no': 1, 'ja_speaker': '土井さん', 'en_speaker':...  \n",
       "1    [{'no': 1, 'ja_speaker': '高田さん', 'en_speaker':...  \n",
       "2    [{'no': 1, 'ja_speaker': '友井さん', 'en_speaker':...  \n",
       "3    [{'no': 1, 'ja_speaker': '高田さん', 'en_speaker':...  \n",
       "4    [{'no': 1, 'ja_speaker': '高田さん', 'en_speaker':...  \n",
       "..                                                 ...  \n",
       "665  [{'no': 1, 'en_speaker': 'Mr. Asano Yuki', 'ja...  \n",
       "666  [{'no': 1, 'en_speaker': 'Mr. Ben Sherman', 'j...  \n",
       "667  [{'no': 1, 'en_speaker': 'Ms. Amy Lin', 'ja_sp...  \n",
       "668  [{'no': 1, 'en_speaker': 'Mr. John Smith', 'ja...  \n",
       "669  [{'no': 1, 'en_speaker': 'Mr. Bob Cook', 'ja_s...  \n",
       "\n",
       "[670 rows x 5 columns]"
      ]
     },
     "execution_count": 2,
     "metadata": {},
     "output_type": "execute_result"
    }
   ],
   "source": [
    "df_train = pd.read_json(\"/home/sumire/discourse_context_mt/data/BSD-master/train.json\")\n",
    "df_train"
   ]
  },
  {
   "cell_type": "code",
   "execution_count": 7,
   "id": "5f5b9caf",
   "metadata": {},
   "outputs": [],
   "source": [
    "df_dev = pd.read_json(\"/home/sumire/discourse_context_mt/data/BSD-master/dev.json\")\n",
    "#df_dev.head()"
   ]
  },
  {
   "cell_type": "code",
   "execution_count": 8,
   "id": "1b9e889b",
   "metadata": {
    "scrolled": true
   },
   "outputs": [],
   "source": [
    "df_test = pd.read_json(\"/home/sumire/discourse_context_mt/data/BSD-master/test.json\")\n",
    "#df_test.head()"
   ]
  },
  {
   "cell_type": "markdown",
   "id": "85735222",
   "metadata": {},
   "source": [
    "Separate df into two original_languages ja-en and en-ja data\n",
    "And retrive only sentences and save to json file"
   ]
  },
  {
   "cell_type": "code",
   "execution_count": 40,
   "id": "4a817106",
   "metadata": {},
   "outputs": [
    {
     "name": "stdout",
     "output_type": "stream",
     "text": [
      "20000 20000 20000\n"
     ]
    },
    {
     "data": {
      "text/html": [
       "<div>\n",
       "<style scoped>\n",
       "    .dataframe tbody tr th:only-of-type {\n",
       "        vertical-align: middle;\n",
       "    }\n",
       "\n",
       "    .dataframe tbody tr th {\n",
       "        vertical-align: top;\n",
       "    }\n",
       "\n",
       "    .dataframe thead th {\n",
       "        text-align: right;\n",
       "    }\n",
       "</style>\n",
       "<table border=\"1\" class=\"dataframe\">\n",
       "  <thead>\n",
       "    <tr style=\"text-align: right;\">\n",
       "      <th></th>\n",
       "      <th>id</th>\n",
       "      <th>sentence_no</th>\n",
       "      <th>sentence</th>\n",
       "    </tr>\n",
       "  </thead>\n",
       "  <tbody>\n",
       "    <tr>\n",
       "      <th>0</th>\n",
       "      <td>190329_J07_03</td>\n",
       "      <td>1</td>\n",
       "      <td>はい、K社システム開発部です。</td>\n",
       "    </tr>\n",
       "    <tr>\n",
       "      <th>1</th>\n",
       "      <td>190329_J07_03</td>\n",
       "      <td>2</td>\n",
       "      <td>H社の高市と申します。</td>\n",
       "    </tr>\n",
       "    <tr>\n",
       "      <th>2</th>\n",
       "      <td>190329_J07_03</td>\n",
       "      <td>3</td>\n",
       "      <td>いつもお世話になっております。</td>\n",
       "    </tr>\n",
       "    <tr>\n",
       "      <th>3</th>\n",
       "      <td>190329_J07_03</td>\n",
       "      <td>4</td>\n",
       "      <td>こちらこそ、お世話になっております。</td>\n",
       "    </tr>\n",
       "    <tr>\n",
       "      <th>4</th>\n",
       "      <td>190329_J07_03</td>\n",
       "      <td>5</td>\n",
       "      <td>稲田さんはいらっしゃいますか？</td>\n",
       "    </tr>\n",
       "    <tr>\n",
       "      <th>...</th>\n",
       "      <td>...</td>\n",
       "      <td>...</td>\n",
       "      <td>...</td>\n",
       "    </tr>\n",
       "    <tr>\n",
       "      <th>19995</th>\n",
       "      <td>190315_E001_01</td>\n",
       "      <td>28</td>\n",
       "      <td>今日の5時までに書き上げます。</td>\n",
       "    </tr>\n",
       "    <tr>\n",
       "      <th>19996</th>\n",
       "      <td>190315_E001_01</td>\n",
       "      <td>29</td>\n",
       "      <td>完璧だね。</td>\n",
       "    </tr>\n",
       "    <tr>\n",
       "      <th>19997</th>\n",
       "      <td>190315_E001_01</td>\n",
       "      <td>30</td>\n",
       "      <td>明日ゼネラルマネージャーにA社の件を話しておきますね。</td>\n",
       "    </tr>\n",
       "    <tr>\n",
       "      <th>19998</th>\n",
       "      <td>190315_E001_01</td>\n",
       "      <td>31</td>\n",
       "      <td>彼がA社を気に入ってくれて、投資できる方向に決まることを願いましょう。</td>\n",
       "    </tr>\n",
       "    <tr>\n",
       "      <th>19999</th>\n",
       "      <td>190315_E001_01</td>\n",
       "      <td>32</td>\n",
       "      <td>そうですね。</td>\n",
       "    </tr>\n",
       "  </tbody>\n",
       "</table>\n",
       "<p>20000 rows × 3 columns</p>\n",
       "</div>"
      ],
      "text/plain": [
       "                   id  sentence_no                             sentence\n",
       "0       190329_J07_03            1                      はい、K社システム開発部です。\n",
       "1       190329_J07_03            2                          H社の高市と申します。\n",
       "2       190329_J07_03            3                      いつもお世話になっております。\n",
       "3       190329_J07_03            4                   こちらこそ、お世話になっております。\n",
       "4       190329_J07_03            5                      稲田さんはいらっしゃいますか？\n",
       "...               ...          ...                                  ...\n",
       "19995  190315_E001_01           28                      今日の5時までに書き上げます。\n",
       "19996  190315_E001_01           29                                完璧だね。\n",
       "19997  190315_E001_01           30          明日ゼネラルマネージャーにA社の件を話しておきますね。\n",
       "19998  190315_E001_01           31  彼がA社を気に入ってくれて、投資できる方向に決まることを願いましょう。\n",
       "19999  190315_E001_01           32                               そうですね。\n",
       "\n",
       "[20000 rows x 3 columns]"
      ]
     },
     "execution_count": 40,
     "metadata": {},
     "output_type": "execute_result"
    }
   ],
   "source": [
    "# make new df with id and mono-lingual sentence\n",
    "# Japanese\n",
    "#df_new = df_train.drop(['tag', 'title', 'original_language'], axis=1 )\n",
    "\n",
    "ja_sent_list = []\n",
    "ja_sent_no_list = []\n",
    "id_list = []\n",
    "\n",
    "\n",
    "for i in range(len(df_train['conversation'])):\n",
    "    #print (len(conv))\n",
    "    #print (df_train.index[df_train['conversation']==df_train['conversation'].iloc[i]])\n",
    "    #df.index[df['column_name']==value].tolist()\n",
    "    #conv_id = df_train['id'].iloc[conv.index]\n",
    "    for sentence in df_train['conversation'].iloc[i]:\n",
    "        id_list.append(df_train['id'].iloc[i])\n",
    "        ja_sent_list.append(sentence['ja_sentence'])\n",
    "        ja_sent_no_list.append(sentence['no'])\n",
    "        \n",
    "print (len(id_list), len(ja_sent_list), len(ja_sent_no_list))\n",
    "\n",
    "ja_train_id_sentence_df = pd.concat([pd.DataFrame(id_list, columns = ['id']), pd.DataFrame(ja_sent_no_list, columns = ['sentence_no']), pd.DataFrame(ja_sent_list, columns = ['sentence'])],axis=1)\n",
    "ja_train_id_sentence_df"
   ]
  },
  {
   "attachments": {},
   "cell_type": "markdown",
   "id": "f1972188",
   "metadata": {},
   "source": [
    "Count the avrage num of sentences in one document"
   ]
  },
  {
   "cell_type": "code",
   "execution_count": 17,
   "id": "9ab6c3ed",
   "metadata": {},
   "outputs": [
    {
     "data": {
      "text/html": [
       "<div>\n",
       "<style scoped>\n",
       "    .dataframe tbody tr th:only-of-type {\n",
       "        vertical-align: middle;\n",
       "    }\n",
       "\n",
       "    .dataframe tbody tr th {\n",
       "        vertical-align: top;\n",
       "    }\n",
       "\n",
       "    .dataframe thead th {\n",
       "        text-align: right;\n",
       "    }\n",
       "</style>\n",
       "<table border=\"1\" class=\"dataframe\">\n",
       "  <thead>\n",
       "    <tr style=\"text-align: right;\">\n",
       "      <th></th>\n",
       "      <th>id</th>\n",
       "      <th>tag</th>\n",
       "      <th>title</th>\n",
       "      <th>original_language</th>\n",
       "      <th>conversation</th>\n",
       "    </tr>\n",
       "  </thead>\n",
       "  <tbody>\n",
       "    <tr>\n",
       "      <th>0</th>\n",
       "      <td>190329_J07_03</td>\n",
       "      <td>phone call</td>\n",
       "      <td>伝言への折り返し電話　打ち合わせ日程調整</td>\n",
       "      <td>ja</td>\n",
       "      <td>[{'no': 1, 'ja_speaker': '土井さん', 'en_speaker':...</td>\n",
       "    </tr>\n",
       "    <tr>\n",
       "      <th>1</th>\n",
       "      <td>190329_J06_11</td>\n",
       "      <td>meeting</td>\n",
       "      <td>株主総会に関する役員向け説明（２）</td>\n",
       "      <td>ja</td>\n",
       "      <td>[{'no': 1, 'ja_speaker': '高田さん', 'en_speaker':...</td>\n",
       "    </tr>\n",
       "    <tr>\n",
       "      <th>2</th>\n",
       "      <td>190329_J06_10</td>\n",
       "      <td>meeting</td>\n",
       "      <td>株主総会に関する役員向け説明（１）</td>\n",
       "      <td>ja</td>\n",
       "      <td>[{'no': 1, 'ja_speaker': '友井さん', 'en_speaker':...</td>\n",
       "    </tr>\n",
       "    <tr>\n",
       "      <th>3</th>\n",
       "      <td>190329_J06_09</td>\n",
       "      <td>face-to-face conversation</td>\n",
       "      <td>信託銀行から株主名簿を受領</td>\n",
       "      <td>ja</td>\n",
       "      <td>[{'no': 1, 'ja_speaker': '高田さん', 'en_speaker':...</td>\n",
       "    </tr>\n",
       "    <tr>\n",
       "      <th>4</th>\n",
       "      <td>190329_J06_08</td>\n",
       "      <td>face-to-face conversation</td>\n",
       "      <td>株主総会への臨場要請</td>\n",
       "      <td>ja</td>\n",
       "      <td>[{'no': 1, 'ja_speaker': '高田さん', 'en_speaker':...</td>\n",
       "    </tr>\n",
       "  </tbody>\n",
       "</table>\n",
       "</div>"
      ],
      "text/plain": [
       "              id                        tag                 title  \\\n",
       "0  190329_J07_03                 phone call  伝言への折り返し電話　打ち合わせ日程調整   \n",
       "1  190329_J06_11                    meeting     株主総会に関する役員向け説明（２）   \n",
       "2  190329_J06_10                    meeting     株主総会に関する役員向け説明（１）   \n",
       "3  190329_J06_09  face-to-face conversation         信託銀行から株主名簿を受領   \n",
       "4  190329_J06_08  face-to-face conversation            株主総会への臨場要請   \n",
       "\n",
       "  original_language                                       conversation  \n",
       "0                ja  [{'no': 1, 'ja_speaker': '土井さん', 'en_speaker':...  \n",
       "1                ja  [{'no': 1, 'ja_speaker': '高田さん', 'en_speaker':...  \n",
       "2                ja  [{'no': 1, 'ja_speaker': '友井さん', 'en_speaker':...  \n",
       "3                ja  [{'no': 1, 'ja_speaker': '高田さん', 'en_speaker':...  \n",
       "4                ja  [{'no': 1, 'ja_speaker': '高田さん', 'en_speaker':...  "
      ]
     },
     "execution_count": 17,
     "metadata": {},
     "output_type": "execute_result"
    }
   ],
   "source": [
    "df_train.head()"
   ]
  },
  {
   "cell_type": "code",
   "execution_count": 32,
   "id": "81d93806",
   "metadata": {},
   "outputs": [
    {
     "name": "stdout",
     "output_type": "stream",
     "text": [
      "Train_data\n",
      "Average of the number of document: 29.802985074626864\n",
      "Maximum of the number of document: 40\n",
      "Minimum of the number of document: 0\n",
      "\n",
      "val_data\n",
      "Average of the number of document: 29.28985507246377\n",
      "Maximum of the number of document: 40\n",
      "Minimum of the number of document: 0\n",
      "\n",
      "Test_data\n",
      "Average of the number of document: 30.27536231884058\n",
      "Maximum of the number of document: 40\n",
      "Minimum of the number of document: 0\n"
     ]
    }
   ],
   "source": [
    "def check_doc_len(data):\n",
    "\n",
    "    doc_len_list = []\n",
    "    doc_len=0\n",
    "    for doc in data[\"conversation\"]:\n",
    "        doc_len_list.append(doc_len)\n",
    "        doc_len = 0\n",
    "        for sent in doc:\n",
    "            doc_len += 1       \n",
    "\n",
    "    #print(\"The number of document:\", len(doc_len_list))\n",
    "    print(\"Average of the num of sentences in document ():\", sum(doc_len_list)/len(doc_len_list))\n",
    "    print(\"Maximum of the num of sentences in document:\", max(doc_len_list))\n",
    "    print(\"Minimum of the num of sentence in document:\", min(doc_len_list))\n",
    "\n",
    "print (\"Train_data\")\n",
    "train_doc_len = check_doc_len(df_train)\n",
    "print()\n",
    "print (\"val_data\")\n",
    "dev_doc_len = check_doc_len(df_dev)\n",
    "print()\n",
    "print (\"Test_data\")\n",
    "test_doc_len = check_doc_len(df_test)\n"
   ]
  },
  {
   "cell_type": "code",
   "execution_count": 38,
   "id": "edd89f8a",
   "metadata": {},
   "outputs": [],
   "source": [
    "# Create Function for the rest\n",
    "# make new df with id and mono-lingual sentence\n",
    "# lang = [ja, en]\n",
    "def new_format(data, lang):\n",
    "    data.drop(['tag', 'title', 'original_language'], axis=1 )\n",
    "\n",
    "    sent_list = []\n",
    "    sent_no_list = []\n",
    "    id_list = []\n",
    "\n",
    "\n",
    "    for i in range(len(data['conversation'])):\n",
    "        #print (len(conv))\n",
    "        #print (df_train.index[df_train['conversation']==df_train['conversation'].iloc[i]])\n",
    "        #df.index[df['column_name']==value].tolist()\n",
    "        #conv_id = df_train['id'].iloc[conv.index]\n",
    "        for sentence in data['conversation'].iloc[i]:\n",
    "            id_list.append(data['id'].iloc[i])\n",
    "            sent_no_list.append(sentence['no'])\n",
    "            if lang == 'ja':\n",
    "                sent_list.append(sentence['ja_sentence'])\n",
    "            else:\n",
    "                sent_list.append(sentence['en_sentence'])\n",
    "            \n",
    "\n",
    "    print (len(id_list), len(sent_list), len(sent_no_list))\n",
    "\n",
    "    id_sentence_df = pd.concat([pd.DataFrame(id_list, columns = ['id']), pd.DataFrame(sent_no_list, columns = ['sentence_no']), pd.DataFrame(sent_list, columns = ['sentence'])],axis=1)\n",
    "    id_sentence_df\n",
    "    \n",
    "    return id_sentence_df"
   ]
  },
  {
   "cell_type": "code",
   "execution_count": 42,
   "id": "44515ed5",
   "metadata": {},
   "outputs": [
    {
     "name": "stdout",
     "output_type": "stream",
     "text": [
      "train\n",
      "20000 20000 20000\n",
      "20000 20000 20000\n",
      "dev\n",
      "2051 2051 2051\n",
      "2051 2051 2051\n",
      "test\n",
      "2120 2120 2120\n",
      "2120 2120 2120\n"
     ]
    },
    {
     "data": {
      "text/plain": [
       "'\\n# json file generation\\nbsd_ja_train = ja_train[\\'sentence\\'].to_json(r\\'C:/Users/hsmr0/IM/main/contextual-mt/data/BSD-master/for_preprocess/train.ja.json\\', force_ascii=False, orient=\"records\",\\n           lines=True)\\nbsd_en_train=en_train[\\'sentence\\'].to_json(r\\'C:/Users/hsmr0/IM/main/contextual-mt/data/BSD-master/for_preprocess/train.en.json\\', force_ascii=False, orient=\"records\",\\n           lines=True)\\nbsd_ja_dev=ja_dev[\\'sentence\\'].to_json(r\\'C:/Users/hsmr0/IM/main/contextual-mt/data/BSD-master/for_preprocess/dev.ja.json\\', force_ascii=False, orient=\"records\",\\n           lines=True)\\nbsd_en_dev=en_dev[\\'sentence\\'].to_json(r\\'C:/Users/hsmr0/IM/main/contextual-mt/data/BSD-master/for_preprocess/dev.en.json\\', force_ascii=False, orient=\"records\",\\n           lines=True)\\nbsd_ja_test=ja_test[\\'sentence\\'].to_json(r\\'C:/Users/hsmr0/IM/main/contextual-mt/data/BSD-master/for_preprocess/test.ja.json\\', force_ascii=False, orient=\"records\",\\n           lines=True)\\nbsd_en_test=en_test[\\'sentence\\'].to_json(r\\'C:/Users/hsmr0/IM/main/contextual-mt/data/BSD-master/for_preprocess/test.en.json\\', force_ascii=False, orient=\"records\",\\n           lines=True)\\n'"
      ]
     },
     "execution_count": 42,
     "metadata": {},
     "output_type": "execute_result"
    }
   ],
   "source": [
    "# df with sentence, doc-id, sentence-id\n",
    "print (\"train\")\n",
    "ja_train=new_format(df_train, 'ja')\n",
    "en_train = new_format(df_train, 'en')\n",
    "print (\"dev\")\n",
    "ja_dev = new_format(df_dev, 'ja')\n",
    "en_dev = new_format(df_dev, 'en')\n",
    "print (\"test\")\n",
    "ja_test = new_format(df_test, 'ja')\n",
    "en_test = new_format(df_test, 'en')\n",
    "\n",
    "\n",
    "\"\"\"\n",
    "# json file generation\n",
    "bsd_ja_train = ja_train['sentence'].to_json(r'C:/Users/hsmr0/IM/main/contextual-mt/data/BSD-master/for_preprocess/train.ja.json', force_ascii=False, orient=\"records\",\n",
    "           lines=True)\n",
    "bsd_en_train=en_train['sentence'].to_json(r'C:/Users/hsmr0/IM/main/contextual-mt/data/BSD-master/for_preprocess/train.en.json', force_ascii=False, orient=\"records\",\n",
    "           lines=True)\n",
    "bsd_ja_dev=ja_dev['sentence'].to_json(r'C:/Users/hsmr0/IM/main/contextual-mt/data/BSD-master/for_preprocess/dev.ja.json', force_ascii=False, orient=\"records\",\n",
    "           lines=True)\n",
    "bsd_en_dev=en_dev['sentence'].to_json(r'C:/Users/hsmr0/IM/main/contextual-mt/data/BSD-master/for_preprocess/dev.en.json', force_ascii=False, orient=\"records\",\n",
    "           lines=True)\n",
    "bsd_ja_test=ja_test['sentence'].to_json(r'C:/Users/hsmr0/IM/main/contextual-mt/data/BSD-master/for_preprocess/test.ja.json', force_ascii=False, orient=\"records\",\n",
    "           lines=True)\n",
    "bsd_en_test=en_test['sentence'].to_json(r'C:/Users/hsmr0/IM/main/contextual-mt/data/BSD-master/for_preprocess/test.en.json', force_ascii=False, orient=\"records\",\n",
    "           lines=True)\n",
    "\"\"\""
   ]
  },
  {
   "cell_type": "markdown",
   "id": "752cb14e",
   "metadata": {},
   "source": [
    "File Generation"
   ]
  },
  {
   "cell_type": "code",
   "execution_count": 45,
   "id": "c9b042ab",
   "metadata": {},
   "outputs": [
    {
     "data": {
      "text/plain": [
       "\"\\n# How to generate .txt file with one data per line\\n\\nwith open(“filename.sth”, ‘w’) as wf:\\n\\tfor line in l:\\n\\t\\twf.write(line.strip()+’\\n’)\\n\\nwith open(“filename.sth”, ‘w’) as wf:\\n\\tfor line in l:\\n\\t\\tline = line.strip()\\n\\t\\twf.write(f'{line}\\n')\\n        \""
      ]
     },
     "execution_count": 45,
     "metadata": {},
     "output_type": "execute_result"
    }
   ],
   "source": [
    "# Src / Tgt File\n",
    "# train.en\n",
    "with open(\"C:/Users/hsmr0/IM/main/contextual-mt/data/BSD-master/for_preprocess/train.en\", 'w', encoding='utf-8') as wf:\n",
    "    for line in en_train['sentence'].to_list():\n",
    "        line = line.strip()\n",
    "        wf.write(f'{line}\\n')       \n",
    "        \n",
    "# train.ja        \n",
    "with open(\"C:/Users/hsmr0/IM/main/contextual-mt/data/BSD-master/for_preprocess/train.ja\", 'w', encoding='utf-8') as wf:\n",
    "    for line in ja_train['sentence'].to_list():\n",
    "        line = line.strip()\n",
    "        wf.write(f'{line}\\n') \n",
    "# dev.en        \n",
    "with open(\"C:/Users/hsmr0/IM/main/contextual-mt/data/BSD-master/for_preprocess/dev.en\", 'w', encoding='utf-8') as wf:\n",
    "    for line in en_dev['sentence'].to_list():\n",
    "        line = line.strip()\n",
    "        wf.write(f'{line}\\n')   \n",
    "\n",
    "# dev.ja        \n",
    "with open(\"C:/Users/hsmr0/IM/main/contextual-mt/data/BSD-master/for_preprocess/dev.ja\", 'w', encoding='utf-8') as wf:\n",
    "    for line in ja_dev['sentence'].to_list():\n",
    "        line = line.strip()\n",
    "        wf.write(f'{line}\\n')\n",
    "     \n",
    "# test.en\n",
    "with open(\"C:/Users/hsmr0/IM/main/contextual-mt/data/BSD-master/for_preprocess/test.en\", 'w', encoding='utf-8') as wf:\n",
    "    for line in en_test['sentence'].to_list():\n",
    "        line = line.strip()\n",
    "        wf.write(f'{line}\\n')  \n",
    "\n",
    "# test.ja\n",
    "with open(\"C:/Users/hsmr0/IM/main/contextual-mt/data/BSD-master/for_preprocess/test.ja\", 'w', encoding='utf-8') as wf:\n",
    "    for line in ja_test['sentence'].to_list():\n",
    "        line = line.strip()\n",
    "        wf.write(f'{line}\\n')  \n",
    "\n",
    "\"\"\"\n",
    "# How to generate .txt file with one data per line\n",
    "\n",
    "with open(“filename.sth”, ‘w’) as wf:\n",
    "\tfor line in l:\n",
    "\t\twf.write(line.strip()+’\\n’)\n",
    "\n",
    "with open(“filename.sth”, ‘w’) as wf:\n",
    "\tfor line in l:\n",
    "\t\tline = line.strip()\n",
    "\t\twf.write(f'{line}\\n')\n",
    "        \"\"\"\n",
    "\n"
   ]
  },
  {
   "cell_type": "code",
   "execution_count": null,
   "id": "a8510312",
   "metadata": {},
   "outputs": [],
   "source": [
    "# docid file \n",
    "with open(\"C:/Users/hsmr0/IM/main/contextual-mt/data/BSD-master/for_preprocess/train.en.docids\", 'w', encoding='utf-8') as wf:\n",
    "    for line in en_train['id'].to_list():\n",
    "        line = line.strip()\n",
    "        wf.write(f'{line}\\n') \n",
    "\n",
    "with open(\"C:/Users/hsmr0/IM/main/contextual-mt/data/BSD-master/for_preprocess/train.ja.docids\", 'w', encoding='utf-8') as wf:\n",
    "    for line in ja_train['id'].to_list():\n",
    "        line = line.strip()\n",
    "        wf.write(f'{line}\\n') \n",
    "\n",
    "with open(\"C:/Users/hsmr0/IM/main/contextual-mt/data/BSD-master/for_preprocess/dev.en.docids\", 'w', encoding='utf-8') as wf:\n",
    "    for line in en_dev['id'].to_list():\n",
    "        line = line.strip()\n",
    "        wf.write(f'{line}\\n') "
   ]
  },
  {
   "cell_type": "code",
   "execution_count": 142,
   "id": "0f2c38b6",
   "metadata": {
    "scrolled": false
   },
   "outputs": [
    {
     "data": {
      "text/html": [
       "<div>\n",
       "<style scoped>\n",
       "    .dataframe tbody tr th:only-of-type {\n",
       "        vertical-align: middle;\n",
       "    }\n",
       "\n",
       "    .dataframe tbody tr th {\n",
       "        vertical-align: top;\n",
       "    }\n",
       "\n",
       "    .dataframe thead th {\n",
       "        text-align: right;\n",
       "    }\n",
       "</style>\n",
       "<table border=\"1\" class=\"dataframe\">\n",
       "  <thead>\n",
       "    <tr style=\"text-align: right;\">\n",
       "      <th></th>\n",
       "      <th>id</th>\n",
       "      <th>sentence_no</th>\n",
       "      <th>sentence</th>\n",
       "    </tr>\n",
       "  </thead>\n",
       "  <tbody>\n",
       "    <tr>\n",
       "      <th>0</th>\n",
       "      <td>190329_J07_03</td>\n",
       "      <td>1</td>\n",
       "      <td>Hi this is the systems development department ...</td>\n",
       "    </tr>\n",
       "    <tr>\n",
       "      <th>1</th>\n",
       "      <td>190329_J07_03</td>\n",
       "      <td>2</td>\n",
       "      <td>My name is Takaichi from Company H.</td>\n",
       "    </tr>\n",
       "    <tr>\n",
       "      <th>2</th>\n",
       "      <td>190329_J07_03</td>\n",
       "      <td>3</td>\n",
       "      <td>Thank you as always.</td>\n",
       "    </tr>\n",
       "    <tr>\n",
       "      <th>3</th>\n",
       "      <td>190329_J07_03</td>\n",
       "      <td>4</td>\n",
       "      <td>Thank you as always as well.</td>\n",
       "    </tr>\n",
       "    <tr>\n",
       "      <th>4</th>\n",
       "      <td>190329_J07_03</td>\n",
       "      <td>5</td>\n",
       "      <td>Is Inada-san there?</td>\n",
       "    </tr>\n",
       "    <tr>\n",
       "      <th>...</th>\n",
       "      <td>...</td>\n",
       "      <td>...</td>\n",
       "      <td>...</td>\n",
       "    </tr>\n",
       "    <tr>\n",
       "      <th>19995</th>\n",
       "      <td>190315_E001_01</td>\n",
       "      <td>28</td>\n",
       "      <td>I'll finish it by 5 o'clock today.</td>\n",
       "    </tr>\n",
       "    <tr>\n",
       "      <th>19996</th>\n",
       "      <td>190315_E001_01</td>\n",
       "      <td>29</td>\n",
       "      <td>Perfect.</td>\n",
       "    </tr>\n",
       "    <tr>\n",
       "      <th>19997</th>\n",
       "      <td>190315_E001_01</td>\n",
       "      <td>30</td>\n",
       "      <td>I'll go talk to the general manager tomorrow t...</td>\n",
       "    </tr>\n",
       "    <tr>\n",
       "      <th>19998</th>\n",
       "      <td>190315_E001_01</td>\n",
       "      <td>31</td>\n",
       "      <td>Hopefully he will like Company A and make the ...</td>\n",
       "    </tr>\n",
       "    <tr>\n",
       "      <th>19999</th>\n",
       "      <td>190315_E001_01</td>\n",
       "      <td>32</td>\n",
       "      <td>I hope so too.</td>\n",
       "    </tr>\n",
       "  </tbody>\n",
       "</table>\n",
       "<p>20000 rows × 3 columns</p>\n",
       "</div>"
      ],
      "text/plain": [
       "                   id  sentence_no  \\\n",
       "0       190329_J07_03            1   \n",
       "1       190329_J07_03            2   \n",
       "2       190329_J07_03            3   \n",
       "3       190329_J07_03            4   \n",
       "4       190329_J07_03            5   \n",
       "...               ...          ...   \n",
       "19995  190315_E001_01           28   \n",
       "19996  190315_E001_01           29   \n",
       "19997  190315_E001_01           30   \n",
       "19998  190315_E001_01           31   \n",
       "19999  190315_E001_01           32   \n",
       "\n",
       "                                                sentence  \n",
       "0      Hi this is the systems development department ...  \n",
       "1                    My name is Takaichi from Company H.  \n",
       "2                                   Thank you as always.  \n",
       "3                           Thank you as always as well.  \n",
       "4                                    Is Inada-san there?  \n",
       "...                                                  ...  \n",
       "19995                 I'll finish it by 5 o'clock today.  \n",
       "19996                                           Perfect.  \n",
       "19997  I'll go talk to the general manager tomorrow t...  \n",
       "19998  Hopefully he will like Company A and make the ...  \n",
       "19999                                     I hope so too.  \n",
       "\n",
       "[20000 rows x 3 columns]"
      ]
     },
     "execution_count": 142,
     "metadata": {},
     "output_type": "execute_result"
    }
   ],
   "source": [
    "en_train"
   ]
  },
  {
   "cell_type": "code",
   "execution_count": null,
   "id": "6dd61ac9",
   "metadata": {},
   "outputs": [],
   "source": [
    "en_train_id=en_train['id'].to_json(r'C:/Users/hsmr0/IM/main/data/bsd_en_train.json', force_ascii=False, orient=\"records\",\n",
    "           lines=True)"
   ]
  },
  {
   "cell_type": "markdown",
   "id": "74643673",
   "metadata": {},
   "source": [
    "Inside the \"conversation\" column, there are several sentences(in both ja and en) with each sentence id, speaker info (ja/en)"
   ]
  },
  {
   "cell_type": "code",
   "execution_count": 7,
   "id": "53400aac",
   "metadata": {},
   "outputs": [
    {
     "data": {
      "text/plain": [
       "[{'no': 1,\n",
       "  'ja_speaker': '土井さん',\n",
       "  'en_speaker': 'Doi-san',\n",
       "  'ja_sentence': 'はい、K社システム開発部です。',\n",
       "  'en_sentence': 'Hi this is the systems development department of Company K.'},\n",
       " {'no': 2,\n",
       "  'ja_speaker': '高市さん',\n",
       "  'en_speaker': 'Takaichi-san',\n",
       "  'ja_sentence': 'H社の高市と申します。',\n",
       "  'en_sentence': 'My name is Takaichi from Company H.'},\n",
       " {'no': 3,\n",
       "  'ja_speaker': '高市さん',\n",
       "  'en_speaker': 'Takaichi-san',\n",
       "  'ja_sentence': 'いつもお世話になっております。',\n",
       "  'en_sentence': 'Thank you as always.'},\n",
       " {'no': 4,\n",
       "  'ja_speaker': '土井さん',\n",
       "  'en_speaker': 'Doi-san',\n",
       "  'ja_sentence': 'こちらこそ、お世話になっております。',\n",
       "  'en_sentence': 'Thank you as always as well.'},\n",
       " {'no': 5,\n",
       "  'ja_speaker': '高市さん',\n",
       "  'en_speaker': 'Takaichi-san',\n",
       "  'ja_sentence': '稲田さんはいらっしゃいますか？',\n",
       "  'en_sentence': 'Is Inada-san there?'},\n",
       " {'no': 6,\n",
       "  'ja_speaker': '高市さん',\n",
       "  'en_speaker': 'Takaichi-san',\n",
       "  'ja_sentence': '1時間ほど前に、お電話いただいたそうなんですけど。',\n",
       "  'en_sentence': 'It seems I got a call from him around 1 hour ago.'},\n",
       " {'no': 7,\n",
       "  'ja_speaker': '土井さん',\n",
       "  'en_speaker': 'Doi-san',\n",
       "  'ja_sentence': 'はい、代わります。',\n",
       "  'en_sentence': 'Yes, let me switch you over.'},\n",
       " {'no': 8,\n",
       "  'ja_speaker': '土井さん',\n",
       "  'en_speaker': 'Doi-san',\n",
       "  'ja_sentence': '少々お待ちください。',\n",
       "  'en_sentence': 'Please wait a moment.'},\n",
       " {'no': 9,\n",
       "  'ja_speaker': '土井さん',\n",
       "  'en_speaker': 'Doi-san',\n",
       "  'ja_sentence': '稲田さん、H社の高市様からお電話です。',\n",
       "  'en_sentence': 'Inada-san, you have a call from Mr. Takaichi of Company H.'},\n",
       " {'no': 10,\n",
       "  'ja_speaker': '稲田さん',\n",
       "  'en_speaker': 'Inada-san',\n",
       "  'ja_sentence': 'もしもし、稲田です。',\n",
       "  'en_sentence': 'Hello, this is Inada.'},\n",
       " {'no': 11,\n",
       "  'ja_speaker': '高市さん',\n",
       "  'en_speaker': 'Takaichi-san',\n",
       "  'ja_sentence': 'H社の高市です。',\n",
       "  'en_sentence': 'This is Takaichi from Company H.'},\n",
       " {'no': 12,\n",
       "  'ja_speaker': '高市さん',\n",
       "  'en_speaker': 'Takaichi-san',\n",
       "  'ja_sentence': 'お世話様でーす。',\n",
       "  'en_sentence': 'Thank you.'},\n",
       " {'no': 13,\n",
       "  'ja_speaker': '稲田さん',\n",
       "  'en_speaker': 'Inada-san',\n",
       "  'ja_sentence': 'お世話様でーす。',\n",
       "  'en_sentence': 'Thank you as always.'},\n",
       " {'no': 14,\n",
       "  'ja_speaker': '高市さん',\n",
       "  'en_speaker': 'Takaichi-san',\n",
       "  'ja_sentence': 'さっきはお電話ありがとうございました。',\n",
       "  'en_sentence': 'Thank you for the call earlier.'},\n",
       " {'no': 15,\n",
       "  'ja_speaker': '高市さん',\n",
       "  'en_speaker': 'Takaichi-san',\n",
       "  'ja_sentence': '外出していて、すみませんでした。',\n",
       "  'en_sentence': 'Sorry I was out.'},\n",
       " {'no': 16,\n",
       "  'ja_speaker': '稲田さん',\n",
       "  'en_speaker': 'Inada-san',\n",
       "  'ja_sentence': 'いいえ、こちらこそ、お忙しいところすみません。',\n",
       "  'en_sentence': \"Not at all, I'm also sorry for calling when you were busy.\"},\n",
       " {'no': 17,\n",
       "  'ja_speaker': '稲田さん',\n",
       "  'en_speaker': 'Inada-san',\n",
       "  'ja_sentence': 'A社さんへ行くのって、来週月曜日でしたよね？',\n",
       "  'en_sentence': 'We are going to Company A next Monday, right?'},\n",
       " {'no': 18,\n",
       "  'ja_speaker': '稲田さん',\n",
       "  'en_speaker': 'Inada-san',\n",
       "  'ja_sentence': 'その打ち合わせ、一度したほうがいいと思いまして。',\n",
       "  'en_sentence': 'I thought we should maybe have a meeting once for that.'},\n",
       " {'no': 19,\n",
       "  'ja_speaker': '高市さん',\n",
       "  'en_speaker': 'Takaichi-san',\n",
       "  'ja_sentence': 'そうですね、しましょう。',\n",
       "  'en_sentence': \"Right, let's do it.\"},\n",
       " {'no': 20,\n",
       "  'ja_speaker': '高市さん',\n",
       "  'en_speaker': 'Takaichi-san',\n",
       "  'ja_sentence': '資料の準備もあるから、早い方がいいですよね。',\n",
       "  'en_sentence': 'We have to prepare materials too so we should do it earlier.'},\n",
       " {'no': 21,\n",
       "  'ja_speaker': '稲田さん',\n",
       "  'en_speaker': 'Inada-san',\n",
       "  'ja_sentence': '高市さんはいつでもいいって、おっしゃってたんでしたっけ。',\n",
       "  'en_sentence': 'Takaichi-san, you said you are available anytime?'},\n",
       " {'no': 22,\n",
       "  'ja_speaker': '高市さん',\n",
       "  'en_speaker': 'Takaichi-san',\n",
       "  'ja_sentence': 'はい、稲田さんはいつがいいですか？',\n",
       "  'en_sentence': 'Yes, when is good for you, Inada-san?'},\n",
       " {'no': 23,\n",
       "  'ja_speaker': '稲田さん',\n",
       "  'en_speaker': 'Inada-san',\n",
       "  'ja_sentence': 'えーと、直近だと・・・',\n",
       "  'en_sentence': 'If it is soon then...'},\n",
       " {'no': 24,\n",
       "  'ja_speaker': '稲田さん',\n",
       "  'en_speaker': 'Inada-san',\n",
       "  'ja_sentence': '明日の午前中、10時半頃からだといかがですか？',\n",
       "  'en_sentence': 'How about around ten thirty in the morning tomorrow?'},\n",
       " {'no': 25,\n",
       "  'ja_speaker': '稲田さん',\n",
       "  'en_speaker': 'Inada-san',\n",
       "  'ja_sentence': '私、そちらに伺えます。',\n",
       "  'en_sentence': 'I will go to your place.'},\n",
       " {'no': 26,\n",
       "  'ja_speaker': '高市さん',\n",
       "  'en_speaker': 'Takaichi-san',\n",
       "  'ja_sentence': 'ほんとですか？',\n",
       "  'en_sentence': 'Really?'},\n",
       " {'no': 27,\n",
       "  'ja_speaker': '高市さん',\n",
       "  'en_speaker': 'Takaichi-san',\n",
       "  'ja_sentence': 'わざわざすみません。',\n",
       "  'en_sentence': 'Sorry for the trouble.'},\n",
       " {'no': 28,\n",
       "  'ja_speaker': '高市さん',\n",
       "  'en_speaker': 'Takaichi-san',\n",
       "  'ja_sentence': '私がそっちに行ってもいいと思っていたんですけど。',\n",
       "  'en_sentence': 'I was thinking I can go to your place though.'},\n",
       " {'no': 29,\n",
       "  'ja_speaker': '稲田さん',\n",
       "  'en_speaker': 'Inada-san',\n",
       "  'ja_sentence': '大丈夫ですよ、近いですし。',\n",
       "  'en_sentence': \"It's okay, it's close.\"},\n",
       " {'no': 30,\n",
       "  'ja_speaker': '稲田さん',\n",
       "  'en_speaker': 'Inada-san',\n",
       "  'ja_sentence': 'じゃあ、明日の10時半ごろ、お伺いしますね。',\n",
       "  'en_sentence': 'Okay, I will go to your place around ten thirty tomorrow.'},\n",
       " {'no': 31,\n",
       "  'ja_speaker': '高市さん',\n",
       "  'en_speaker': 'Takaichi-san',\n",
       "  'ja_sentence': 'はい、分かりました。',\n",
       "  'en_sentence': 'Okay, got it.'},\n",
       " {'no': 32,\n",
       "  'ja_speaker': '高市さん',\n",
       "  'en_speaker': 'Takaichi-san',\n",
       "  'ja_sentence': 'ありがとうございます。',\n",
       "  'en_sentence': 'Thank you very much.'},\n",
       " {'no': 33,\n",
       "  'ja_speaker': '高市さん',\n",
       "  'en_speaker': 'Takaichi-san',\n",
       "  'ja_sentence': 'じゃ、明日、お待ちしてます。',\n",
       "  'en_sentence': \"Alright, I'll wait for you tomorrow.\"},\n",
       " {'no': 34,\n",
       "  'ja_speaker': '高市さん',\n",
       "  'en_speaker': 'Takaichi-san',\n",
       "  'ja_sentence': 'よろしくお願いします。',\n",
       "  'en_sentence': 'Thank you.'},\n",
       " {'no': 35,\n",
       "  'ja_speaker': '稲田さん',\n",
       "  'en_speaker': 'Inada-san',\n",
       "  'ja_sentence': 'よろしくお願いします。',\n",
       "  'en_sentence': 'Thank you.'}]"
      ]
     },
     "execution_count": 7,
     "metadata": {},
     "output_type": "execute_result"
    }
   ],
   "source": [
    "# Check inside the conversation column\n",
    "df_train['conversation'].iloc[0]"
   ]
  },
  {
   "cell_type": "markdown",
   "id": "ba436484",
   "metadata": {},
   "source": [
    "Check the min/max/average utterance length. "
   ]
  },
  {
   "cell_type": "code",
   "execution_count": 64,
   "id": "07dbcb34",
   "metadata": {
    "scrolled": true
   },
   "outputs": [
    {
     "name": "stdout",
     "output_type": "stream",
     "text": [
      "ja_sentence\n",
      "max length: 110\n",
      " (Index, sentence): (15256, 'なので、当初はグループマネージャーをなくしてチームリーダーだけにしようと考えたのですが、結局のところ、経験のあるグループマネージャーを置いて、チームリーダーのポジションをもっと最近雇った人たちに提供するのがいいでしょう。')\n",
      "min length: 2\n",
      " (Index, sentence): (3580, '何？')\n",
      "avrage length: 21.18265\n",
      "\n",
      "en_sentence\n",
      "max length: 278\n",
      " (Index, sentence): (7992, 'Of course, it is a very popular TV programme, aired in April nationwide in Japan, in which the antioxidants catechins and vitamin C contained in green tea were proven to reduce cholesterol levels, and since then more people became interested in green tea and green tea products.')\n",
      "min length: 3\n",
      " (Index, sentence): (5907, 'At.')\n",
      "avrage length: 48.5012\n"
     ]
    }
   ],
   "source": [
    "ja_sentence_list = []\n",
    "en_sentence_list = []\n",
    "\n",
    "for conversation in df_train['conversation']:\n",
    "    #print (conversation)\n",
    "    #convers_count += 1\n",
    "    #sentence_count = 0\n",
    "    #print (\"convers_num: \", convers_count)\n",
    "    for sentence in conversation:\n",
    "        #print (\"sentence_num: \", sentence_count)\n",
    "        #print (sentence['ja_sentence'])\n",
    "        ja_sentence_list.append(sentence['ja_sentence'])\n",
    "        #print (sentence['en_sentence'])\n",
    "        en_sentence_list.append(sentence['en_sentence'])\n",
    "print ('ja_sentence')        \n",
    "print (f'max length: {max(len(x) for x in ja_sentence_list)}\\n (Index, sentence): {max(enumerate(ja_sentence_list), key=lambda x: len(x[1]))}')\n",
    "print (f'min length: {min(len(x) for x in ja_sentence_list)}\\n (Index, sentence): {min(enumerate(ja_sentence_list), key=lambda x: len(x[1]))}')\n",
    "print (f'avrage length: {(sum(len(x) for x in ja_sentence_list)) / len(ja_sentence_list)}')\n",
    "\n",
    "\n",
    "print ()\n",
    "print ('en_sentence')\n",
    "print (f'max length: {max(len(x) for x in en_sentence_list)}\\n (Index, sentence): {max(enumerate(en_sentence_list), key=lambda x: len(x[1]))}')\n",
    "print (f'min length: {min(len(x) for x in en_sentence_list)}\\n (Index, sentence): {min(enumerate(en_sentence_list), key=lambda x: len(x[1]))}')\n",
    "print (f'avrage length: {(sum(len(x) for x in en_sentence_list)) / len(en_sentence_list)}')\n",
    "\n"
   ]
  },
  {
   "cell_type": "code",
   "execution_count": 67,
   "id": "c0ad6a39",
   "metadata": {},
   "outputs": [
    {
     "name": "stdout",
     "output_type": "stream",
     "text": [
      "Duplicates in Japanese:  [('ありがとうございます。', 110), ('はい。', 102), ('分かりました。', 86), ('わかりました。', 79), ('そうですね。', 58), ('ありがとう。', 42), ('なるほど。', 41), ('もちろんです。', 40), ('そうです。', 40), ('よろしくお願いします。', 35), ('そうですか。', 27), ('お願いします。', 26), ('いいですよ。', 26), ('かしこまりました。', 25), ('承知しました。', 23), ('その通りです。', 20), ('了解しました。', 18), ('助かります。', 17), ('はい、わかりました。', 16), ('はい、お願いします。', 16)]\n",
      "\n",
      "Duplicates in English:  [('Thank you.', 156), ('Okay.', 137), ('I see.', 83), ('Thank you very much.', 73), ('Yes.', 67), ('Sure.', 51), ('Bye now.', 45), ('Of course.', 44), ('Got it.', 44), (\"That's right.\", 40), ('Yeah.', 38), ('Great.', 37), ('Not a problem.', 33), ('Alright.', 27), ('That would be great.', 26), ('Exactly.', 26), ('Sounds good.', 23), ('Yes, please.', 22), ('Certainly.', 21), (\"That's correct.\", 21)]\n"
     ]
    }
   ],
   "source": [
    "import collections\n",
    "c_ja = collections.Counter(ja_sentence_list)\n",
    "c_en = collections.Counter(en_sentence_list)\n",
    "print('Duplicates in Japanese: ', c_ja.most_common()[:20])\n",
    "print ()\n",
    "print ('Duplicates in English: ',c_en.most_common()[:20])"
   ]
  },
  {
   "cell_type": "markdown",
   "id": "1d62234c",
   "metadata": {},
   "source": [
    "There are 670 train dataset with no missing data (null)"
   ]
  },
  {
   "cell_type": "code",
   "execution_count": 32,
   "id": "5f8d0537",
   "metadata": {
    "scrolled": true
   },
   "outputs": [
    {
     "name": "stdout",
     "output_type": "stream",
     "text": [
      "<class 'pandas.core.frame.DataFrame'>\n",
      "RangeIndex: 670 entries, 0 to 669\n",
      "Data columns (total 5 columns):\n",
      " #   Column             Non-Null Count  Dtype \n",
      "---  ------             --------------  ----- \n",
      " 0   id                 670 non-null    object\n",
      " 1   tag                670 non-null    object\n",
      " 2   title              670 non-null    object\n",
      " 3   original_language  670 non-null    object\n",
      " 4   conversation       670 non-null    object\n",
      "dtypes: object(5)\n",
      "memory usage: 26.3+ KB\n"
     ]
    }
   ],
   "source": [
    "df_train.info()"
   ]
  },
  {
   "cell_type": "markdown",
   "id": "d4a1eff8",
   "metadata": {},
   "source": [
    "There are 6 unique tags (scene) and 666 unique titles in train data."
   ]
  },
  {
   "cell_type": "code",
   "execution_count": 31,
   "id": "52c877ef",
   "metadata": {
    "scrolled": true
   },
   "outputs": [
    {
     "data": {
      "text/html": [
       "<div>\n",
       "<style scoped>\n",
       "    .dataframe tbody tr th:only-of-type {\n",
       "        vertical-align: middle;\n",
       "    }\n",
       "\n",
       "    .dataframe tbody tr th {\n",
       "        vertical-align: top;\n",
       "    }\n",
       "\n",
       "    .dataframe thead th {\n",
       "        text-align: right;\n",
       "    }\n",
       "</style>\n",
       "<table border=\"1\" class=\"dataframe\">\n",
       "  <thead>\n",
       "    <tr style=\"text-align: right;\">\n",
       "      <th></th>\n",
       "      <th>id</th>\n",
       "      <th>tag</th>\n",
       "      <th>title</th>\n",
       "      <th>original_language</th>\n",
       "      <th>conversation</th>\n",
       "    </tr>\n",
       "  </thead>\n",
       "  <tbody>\n",
       "    <tr>\n",
       "      <th>count</th>\n",
       "      <td>670</td>\n",
       "      <td>670</td>\n",
       "      <td>670</td>\n",
       "      <td>670</td>\n",
       "      <td>670</td>\n",
       "    </tr>\n",
       "    <tr>\n",
       "      <th>unique</th>\n",
       "      <td>670</td>\n",
       "      <td>6</td>\n",
       "      <td>666</td>\n",
       "      <td>2</td>\n",
       "      <td>670</td>\n",
       "    </tr>\n",
       "    <tr>\n",
       "      <th>top</th>\n",
       "      <td>190329_J07_03</td>\n",
       "      <td>face-to-face conversation</td>\n",
       "      <td>New product presentation</td>\n",
       "      <td>en</td>\n",
       "      <td>[{'no': 1, 'ja_speaker': '土井さん', 'en_speaker':...</td>\n",
       "    </tr>\n",
       "    <tr>\n",
       "      <th>freq</th>\n",
       "      <td>1</td>\n",
       "      <td>225</td>\n",
       "      <td>2</td>\n",
       "      <td>345</td>\n",
       "      <td>1</td>\n",
       "    </tr>\n",
       "  </tbody>\n",
       "</table>\n",
       "</div>"
      ],
      "text/plain": [
       "                   id                        tag                     title  \\\n",
       "count             670                        670                       670   \n",
       "unique            670                          6                       666   \n",
       "top     190329_J07_03  face-to-face conversation  New product presentation   \n",
       "freq                1                        225                         2   \n",
       "\n",
       "       original_language                                       conversation  \n",
       "count                670                                                670  \n",
       "unique                 2                                                670  \n",
       "top                   en  [{'no': 1, 'ja_speaker': '土井さん', 'en_speaker':...  \n",
       "freq                 345                                                  1  "
      ]
     },
     "execution_count": 31,
     "metadata": {},
     "output_type": "execute_result"
    }
   ],
   "source": [
    "df_train.describe()"
   ]
  },
  {
   "cell_type": "markdown",
   "id": "75d6a29d",
   "metadata": {},
   "source": [
    "There are 69 dev dataset with no missing data (null)"
   ]
  },
  {
   "cell_type": "code",
   "execution_count": 41,
   "id": "616bec2d",
   "metadata": {},
   "outputs": [
    {
     "name": "stdout",
     "output_type": "stream",
     "text": [
      "<class 'pandas.core.frame.DataFrame'>\n",
      "RangeIndex: 69 entries, 0 to 68\n",
      "Data columns (total 5 columns):\n",
      " #   Column             Non-Null Count  Dtype \n",
      "---  ------             --------------  ----- \n",
      " 0   id                 69 non-null     object\n",
      " 1   tag                69 non-null     object\n",
      " 2   title              69 non-null     object\n",
      " 3   original_language  69 non-null     object\n",
      " 4   conversation       69 non-null     object\n",
      "dtypes: object(5)\n",
      "memory usage: 2.8+ KB\n"
     ]
    }
   ],
   "source": [
    "df_dev.info()"
   ]
  },
  {
   "cell_type": "markdown",
   "id": "7ce34af9",
   "metadata": {},
   "source": [
    "There are 6 unique tag (scene) and 666 unique titles in dev data."
   ]
  },
  {
   "cell_type": "code",
   "execution_count": 43,
   "id": "fa32943e",
   "metadata": {
    "scrolled": false
   },
   "outputs": [
    {
     "data": {
      "text/html": [
       "<div>\n",
       "<style scoped>\n",
       "    .dataframe tbody tr th:only-of-type {\n",
       "        vertical-align: middle;\n",
       "    }\n",
       "\n",
       "    .dataframe tbody tr th {\n",
       "        vertical-align: top;\n",
       "    }\n",
       "\n",
       "    .dataframe thead th {\n",
       "        text-align: right;\n",
       "    }\n",
       "</style>\n",
       "<table border=\"1\" class=\"dataframe\">\n",
       "  <thead>\n",
       "    <tr style=\"text-align: right;\">\n",
       "      <th></th>\n",
       "      <th>id</th>\n",
       "      <th>tag</th>\n",
       "      <th>title</th>\n",
       "      <th>original_language</th>\n",
       "      <th>conversation</th>\n",
       "    </tr>\n",
       "  </thead>\n",
       "  <tbody>\n",
       "    <tr>\n",
       "      <th>count</th>\n",
       "      <td>69</td>\n",
       "      <td>69</td>\n",
       "      <td>69</td>\n",
       "      <td>69</td>\n",
       "      <td>69</td>\n",
       "    </tr>\n",
       "    <tr>\n",
       "      <th>unique</th>\n",
       "      <td>69</td>\n",
       "      <td>6</td>\n",
       "      <td>69</td>\n",
       "      <td>2</td>\n",
       "      <td>69</td>\n",
       "    </tr>\n",
       "    <tr>\n",
       "      <th>top</th>\n",
       "      <td>190315_E001_17</td>\n",
       "      <td>face-to-face conversation</td>\n",
       "      <td>Training: How to do research</td>\n",
       "      <td>en</td>\n",
       "      <td>[{'no': 1, 'en_speaker': 'Mr. Ben Sherman', 'j...</td>\n",
       "    </tr>\n",
       "    <tr>\n",
       "      <th>freq</th>\n",
       "      <td>1</td>\n",
       "      <td>23</td>\n",
       "      <td>1</td>\n",
       "      <td>35</td>\n",
       "      <td>1</td>\n",
       "    </tr>\n",
       "  </tbody>\n",
       "</table>\n",
       "</div>"
      ],
      "text/plain": [
       "                    id                        tag  \\\n",
       "count               69                         69   \n",
       "unique              69                          6   \n",
       "top     190315_E001_17  face-to-face conversation   \n",
       "freq                 1                         23   \n",
       "\n",
       "                               title original_language  \\\n",
       "count                             69                69   \n",
       "unique                            69                 2   \n",
       "top     Training: How to do research                en   \n",
       "freq                               1                35   \n",
       "\n",
       "                                             conversation  \n",
       "count                                                  69  \n",
       "unique                                                 69  \n",
       "top     [{'no': 1, 'en_speaker': 'Mr. Ben Sherman', 'j...  \n",
       "freq                                                    1  "
      ]
     },
     "execution_count": 43,
     "metadata": {},
     "output_type": "execute_result"
    }
   ],
   "source": [
    "df_dev.describe()"
   ]
  },
  {
   "cell_type": "markdown",
   "id": "1a7f00a1",
   "metadata": {},
   "source": [
    "There are 69 dev dataset with no missing data (null)"
   ]
  },
  {
   "cell_type": "code",
   "execution_count": 148,
   "id": "4ccf084b",
   "metadata": {},
   "outputs": [
    {
     "name": "stdout",
     "output_type": "stream",
     "text": [
      "<class 'pandas.core.frame.DataFrame'>\n",
      "RangeIndex: 69 entries, 0 to 68\n",
      "Data columns (total 5 columns):\n",
      " #   Column             Non-Null Count  Dtype \n",
      "---  ------             --------------  ----- \n",
      " 0   id                 69 non-null     object\n",
      " 1   tag                69 non-null     object\n",
      " 2   title              69 non-null     object\n",
      " 3   original_language  69 non-null     object\n",
      " 4   conversation       69 non-null     object\n",
      "dtypes: object(5)\n",
      "memory usage: 2.8+ KB\n"
     ]
    }
   ],
   "source": [
    "df_test.info()"
   ]
  },
  {
   "cell_type": "markdown",
   "id": "707def56",
   "metadata": {},
   "source": [
    "There are 6 unique tag (scene) and 666 unique titles in test data."
   ]
  },
  {
   "cell_type": "code",
   "execution_count": 45,
   "id": "0415b90e",
   "metadata": {
    "scrolled": true
   },
   "outputs": [
    {
     "data": {
      "text/html": [
       "<div>\n",
       "<style scoped>\n",
       "    .dataframe tbody tr th:only-of-type {\n",
       "        vertical-align: middle;\n",
       "    }\n",
       "\n",
       "    .dataframe tbody tr th {\n",
       "        vertical-align: top;\n",
       "    }\n",
       "\n",
       "    .dataframe thead th {\n",
       "        text-align: right;\n",
       "    }\n",
       "</style>\n",
       "<table border=\"1\" class=\"dataframe\">\n",
       "  <thead>\n",
       "    <tr style=\"text-align: right;\">\n",
       "      <th></th>\n",
       "      <th>id</th>\n",
       "      <th>tag</th>\n",
       "      <th>title</th>\n",
       "      <th>original_language</th>\n",
       "      <th>conversation</th>\n",
       "    </tr>\n",
       "  </thead>\n",
       "  <tbody>\n",
       "    <tr>\n",
       "      <th>count</th>\n",
       "      <td>69</td>\n",
       "      <td>69</td>\n",
       "      <td>69</td>\n",
       "      <td>69</td>\n",
       "      <td>69</td>\n",
       "    </tr>\n",
       "    <tr>\n",
       "      <th>unique</th>\n",
       "      <td>69</td>\n",
       "      <td>6</td>\n",
       "      <td>69</td>\n",
       "      <td>2</td>\n",
       "      <td>69</td>\n",
       "    </tr>\n",
       "    <tr>\n",
       "      <th>top</th>\n",
       "      <td>190315_E001_13</td>\n",
       "      <td>face-to-face conversation</td>\n",
       "      <td>Meeting: Market update meeting</td>\n",
       "      <td>en</td>\n",
       "      <td>[{'no': 1, 'en_speaker': 'Mr. John Smith', 'ja...</td>\n",
       "    </tr>\n",
       "    <tr>\n",
       "      <th>freq</th>\n",
       "      <td>1</td>\n",
       "      <td>23</td>\n",
       "      <td>1</td>\n",
       "      <td>35</td>\n",
       "      <td>1</td>\n",
       "    </tr>\n",
       "  </tbody>\n",
       "</table>\n",
       "</div>"
      ],
      "text/plain": [
       "                    id                        tag  \\\n",
       "count               69                         69   \n",
       "unique              69                          6   \n",
       "top     190315_E001_13  face-to-face conversation   \n",
       "freq                 1                         23   \n",
       "\n",
       "                                 title original_language  \\\n",
       "count                               69                69   \n",
       "unique                              69                 2   \n",
       "top     Meeting: Market update meeting                en   \n",
       "freq                                 1                35   \n",
       "\n",
       "                                             conversation  \n",
       "count                                                  69  \n",
       "unique                                                 69  \n",
       "top     [{'no': 1, 'en_speaker': 'Mr. John Smith', 'ja...  \n",
       "freq                                                    1  "
      ]
     },
     "execution_count": 45,
     "metadata": {},
     "output_type": "execute_result"
    }
   ],
   "source": [
    "df_test.describe()"
   ]
  },
  {
   "cell_type": "markdown",
   "id": "7f70ce47",
   "metadata": {},
   "source": [
    "scene and original language destribution (Train data, document level (scene-level))"
   ]
  },
  {
   "cell_type": "code",
   "execution_count": 80,
   "id": "0ec02af0",
   "metadata": {
    "scrolled": false
   },
   "outputs": [
    {
     "data": {
      "image/png": "[encoded data removed]",
      "text/plain": [
       "<Figure size 1800x360 with 2 Axes>"
      ]
     },
     "metadata": {},
     "output_type": "display_data"
    }
   ],
   "source": [
    "sns.set()\n",
    "fig, axes = plt.subplots(1, 2, figsize=(25,5))\n",
    "ax = sns.countplot(x=\"tag\", data=df_train,ax=axes[0])\n",
    "ax = sns.countplot(x=\"original_language\", data=df_train,ax=axes[1])"
   ]
  },
  {
   "cell_type": "markdown",
   "id": "6c9302c9",
   "metadata": {},
   "source": [
    "Data Split (Document-level (Scene-level))"
   ]
  },
  {
   "cell_type": "code",
   "execution_count": 104,
   "id": "b8be4b0f",
   "metadata": {
    "scrolled": true
   },
   "outputs": [
    {
     "data": {
      "image/png": "[encoded data removed]",
      "text/plain": [
       "<Figure size 720x360 with 1 Axes>"
      ]
     },
     "metadata": {},
     "output_type": "display_data"
    }
   ],
   "source": [
    "data_doc = {f'Train ({len(df_train.index)})':len(df_train.index), f'Dev ({len(df_dev.index)})':len(df_dev.index), f'Test ({len(df_test.index)})':len(df_test.index)}\n",
    "x = list(data_doc.keys())\n",
    "y = list(data_doc.values())\n",
    "\n",
    "fig = plt.figure(figsize = (10, 5))\n",
    " \n",
    "# creating the bar plot\n",
    "plt.bar(x, y,width = 0.4)\n",
    " \n",
    "plt.ylabel(\"Number of Documents\")\n",
    "plt.title(\"Data Split (Document Level)\")\n",
    "plt.show()"
   ]
  },
  {
   "cell_type": "markdown",
   "id": "146dcca1",
   "metadata": {},
   "source": [
    "Data Split (Sentence-level) below"
   ]
  },
  {
   "cell_type": "code",
   "execution_count": 149,
   "id": "ea055a89",
   "metadata": {
    "scrolled": true
   },
   "outputs": [
    {
     "name": "stdout",
     "output_type": "stream",
     "text": [
      "Sentence-level Data split\n",
      "Train: 20000\n",
      "Dev  : 2051\n",
      "Test : 2120\n"
     ]
    }
   ],
   "source": [
    "# Count all sentences in entire dataset\n",
    "\n",
    "tag_lists = ['phone call', 'meeting', 'face-to-face conversation', 'general chatting', 'presentation', 'training']\n",
    "\n",
    "def count_sents(data):\n",
    "    \n",
    "    all_sents = 0\n",
    "    \n",
    "    phone_sents = 0\n",
    "    meet_sents = 0\n",
    "    face_sents = 0\n",
    "    chat_sents = 0\n",
    "    presen_sents = 0\n",
    "    training_sents = 0\n",
    "    \n",
    "    \n",
    "    for i in range(len(data)):\n",
    "        sents_in_scenario = len(data['conversation'].iloc[i])\n",
    "        all_sents += sents_in_scenario\n",
    "        \n",
    "        if data['tag'].iloc[i] == 'phone call':\n",
    "            phone_sents += sents_in_scenario\n",
    "            \n",
    "        if data['tag'].iloc[i] == 'meeting':\n",
    "            meet_sents += sents_in_scenario\n",
    "                \n",
    "        if data['tag'].iloc[i] == 'face-to-face conversation':\n",
    "            face_sents += sents_in_scenario\n",
    "           \n",
    "        if data['tag'].iloc[i] == 'general chatting':\n",
    "            chat_sents += sents_in_scenario\n",
    "        \n",
    "        if data['tag'].iloc[i] == 'presentation':\n",
    "            presen_sents += sents_in_scenario\n",
    "        \n",
    "        if data['tag'].iloc[i] == 'training':\n",
    "            training_sents += sents_in_scenario\n",
    "            \n",
    "                \n",
    "    return (all_sents, phone_sents, meet_sents, face_sents, chat_sents, presen_sents, training_sents) \n",
    "\n",
    "print (\"Sentence-level Data split\")\n",
    "print (f'Train: {count_sents(df_train)[0]}\\nDev  : {count_sents(df_dev)[0]}\\nTest : {count_sents(df_test)[0]}')"
   ]
  },
  {
   "cell_type": "code",
   "execution_count": 105,
   "id": "db71f8ea",
   "metadata": {
    "scrolled": true
   },
   "outputs": [
    {
     "data": {
      "image/png": "[encoded data removed]",
      "text/plain": [
       "<Figure size 720x360 with 1 Axes>"
      ]
     },
     "metadata": {},
     "output_type": "display_data"
    }
   ],
   "source": [
    "data_sent = {f'Train ({count_sents(df_train)})':count_sents(df_train), f'Dev ({count_sents(df_dev)})': count_sents(df_dev), f'Test ({count_sents(df_test)})':count_sents(df_test)}\n",
    "x = list(data_sent.keys())\n",
    "y = list(data_sent.values())\n",
    "\n",
    "fig = plt.figure(figsize = (10, 5))\n",
    " \n",
    "# creating the bar plot\n",
    "plt.bar(x, y,width = 0.4)\n",
    " \n",
    "plt.ylabel(\"Number of Sentences\")\n",
    "plt.title(\"Data Split (Sentence-level)\")\n",
    "plt.show()"
   ]
  },
  {
   "cell_type": "markdown",
   "id": "f965e035",
   "metadata": {},
   "source": [
    " Sentence-level scene distribution"
   ]
  },
  {
   "cell_type": "code",
   "execution_count": 147,
   "id": "1085801a",
   "metadata": {
    "scrolled": true
   },
   "outputs": [
    {
     "name": "stdout",
     "output_type": "stream",
     "text": [
      "Train\n",
      "   phone call : 20000\n",
      "   meeting : 4119\n",
      "   face-to-face conversation : 3751\n",
      "   general chatting : 6511\n",
      "   presentation : 3798\n",
      "   training : 796\n",
      "Dev\n",
      "   phone call : 2051\n",
      "   meeting : 361\n",
      "   face-to-face conversation : 459\n",
      "   general chatting : 633\n",
      "   presentation : 471\n",
      "   training : 64\n",
      "Test\n",
      "   phone call : 2120\n",
      "   meeting : 375\n",
      "   face-to-face conversation : 457\n",
      "   general chatting : 726\n",
      "   presentation : 423\n",
      "   training : 71\n"
     ]
    }
   ],
   "source": [
    "print ('Train')\n",
    "for j in range(len(tag_lists)):\n",
    "    print ('  ',tag_lists[j],':', count_sents(df_train)[j])\n",
    "    \n",
    "print ('Dev')\n",
    "for j in range(len(tag_lists)):\n",
    "    print ('  ',tag_lists[j],':', count_sents(df_dev)[j])\n",
    "    \n",
    "print ('Test')\n",
    "for j in range(len(tag_lists)):\n",
    "    print ('  ',tag_lists[j],':', count_sents(df_test)[j])"
   ]
  },
  {
   "cell_type": "code",
   "execution_count": 82,
   "id": "895cd279",
   "metadata": {},
   "outputs": [],
   "source": [
    "import sentencepiece as spm"
   ]
  },
  {
   "cell_type": "markdown",
   "id": "dea4fb67",
   "metadata": {},
   "source": [
    "Studying sentencepiece.....below"
   ]
  },
  {
   "cell_type": "code",
   "execution_count": 102,
   "id": "0fc631e6",
   "metadata": {
    "scrolled": true
   },
   "outputs": [
    {
     "ename": "SyntaxError",
     "evalue": "invalid syntax (2330352871.py, line 1)",
     "output_type": "error",
     "traceback": [
      "\u001b[1;36m  Cell \u001b[1;32mIn [102], line 1\u001b[1;36m\u001b[0m\n\u001b[1;33m    spm_train --input=\"C:/Users/hsmr0/IM/main/data/bsd_ja_train.json\", --model_prefix=<model_name> --vocab_size=8000 --character_coverage=1.0 --model_type=bpe\u001b[0m\n\u001b[1;37m                                                                                      ^\u001b[0m\n\u001b[1;31mSyntaxError\u001b[0m\u001b[1;31m:\u001b[0m invalid syntax\n"
     ]
    }
   ],
   "source": [
    "!spm_train --input=\"C:/Users/hsmr0/IM/main/data/bsd_ja_train.json\", --model_prefix=<model_name> --vocab_size=8000 --character_coverage=1.0 --model_type=bpe"
   ]
  },
  {
   "cell_type": "code",
   "execution_count": 88,
   "id": "f8d9c60f",
   "metadata": {},
   "outputs": [],
   "source": [
    "sp = spm.SentencePieceProcessor()\n",
    "sp.Load(\"C:/Users/hsmr0/IM/main/data\")"
   ]
  }
 ],
 "metadata": {
  "kernelspec": {
   "display_name": "Python 3 (ipykernel)",
   "language": "python",
   "name": "python3"
  },
  "language_info": {
   "codemirror_mode": {
    "name": "ipython",
    "version": 3
   },
   "file_extension": ".py",
   "mimetype": "text/x-python",
   "name": "python",
   "nbconvert_exporter": "python",
   "pygments_lexer": "ipython3",
   "version": "3.8.0"
  },
  "vscode": {
   "interpreter": {
    "hash": "8509828c85e9afa402cad71c119e0677af44b1cc4c0e26134caba39d9693f5c4"
   }
  }
 },
 "nbformat": 4,
 "nbformat_minor": 5
}
